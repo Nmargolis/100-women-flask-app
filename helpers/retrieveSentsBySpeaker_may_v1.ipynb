{
 "cells": [
  {
   "cell_type": "code",
   "execution_count": 1,
   "metadata": {
    "collapsed": true
   },
   "outputs": [],
   "source": [
    "ibm_out=    {'result_index': 0,\n",
    "         'results': [{'alternatives': [{'confidence': 0.817,\n",
    "                                        'timestamps': [[\"I'm\", 0.7, 0.86],\n",
    "                                                       ['saying', 0.86, 1.25],\n",
    "                                                       ['any', 1.25, 1.52],\n",
    "                                                       ['sentence', 1.52, 2.48]],\n",
    "                                        'transcript': \"I'm saying any sentence \"}],\n",
    "                      'final': True},\n",
    "                     {'alternatives': [{'confidence': 0.911,\n",
    "                                        'timestamps': [['I', 2.82, 2.98],\n",
    "                                                       ['am', 2.98, 3.15],\n",
    "                                                       ['also', 3.15, 3.45],\n",
    "                                                       ['saying', 3.45, 3.78],\n",
    "                                                       ['any', 3.78, 4.07],\n",
    "                                                       ['sentence', 4.07, 4.75]],\n",
    "                                        'transcript': 'I am also saying any '\n",
    "                                                      'sentence '}],\n",
    "                      'final': True},\n",
    "                     {'alternatives': [{'confidence': 0.34,\n",
    "                                        'timestamps': [['yeah', 7.28, 7.62],\n",
    "                                                       ['yeah', 8.13, 8.49]],\n",
    "                                        'transcript': 'yeah yeah '}],\n",
    "                      'final': True}],\n",
    "         'speaker_labels': [{'confidence': 0.5,\n",
    "                             'final': False,\n",
    "                             'from': 0.7,\n",
    "                             'speaker': 0,\n",
    "                             'to': 0.86},\n",
    "                            {'confidence': 0.5,\n",
    "                             'final': False,\n",
    "                             'from': 0.86,\n",
    "                             'speaker': 0,\n",
    "                             'to': 1.25},\n",
    "                            {'confidence': 0.5,\n",
    "                             'final': False,\n",
    "                             'from': 1.25,\n",
    "                             'speaker': 0,\n",
    "                             'to': 1.52},\n",
    "                            {'confidence': 0.5,\n",
    "                             'final': False,\n",
    "                             'from': 1.52,\n",
    "                             'speaker': 0,\n",
    "                             'to': 2.48},\n",
    "                            {'confidence': 0.667,\n",
    "                             'final': False,\n",
    "                             'from': 2.82,\n",
    "                             'speaker': 1,\n",
    "                             'to': 2.98},\n",
    "                            {'confidence': 0.667,\n",
    "                             'final': False,\n",
    "                             'from': 2.98,\n",
    "                             'speaker': 1,\n",
    "                             'to': 3.15},\n",
    "                            {'confidence': 0.667,\n",
    "                             'final': False,\n",
    "                             'from': 3.15,\n",
    "                             'speaker': 1,\n",
    "                             'to': 3.45},\n",
    "                            {'confidence': 0.667,\n",
    "                             'final': False,\n",
    "                             'from': 3.45,\n",
    "                             'speaker': 1,\n",
    "                             'to': 3.78},\n",
    "                            {'confidence': 0.667,\n",
    "                             'final': False,\n",
    "                             'from': 3.78,\n",
    "                             'speaker': 1,\n",
    "                             'to': 4.07},\n",
    "                            {'confidence': 0.667,\n",
    "                             'final': False,\n",
    "                             'from': 4.07,\n",
    "                             'speaker': 1,\n",
    "                             'to': 4.75},\n",
    "                            {'confidence': 0.478,\n",
    "                             'final': False,\n",
    "                             'from': 7.28,\n",
    "                             'speaker': 2,\n",
    "                             'to': 7.62},\n",
    "                            {'confidence': 0.454,\n",
    "                             'final': True,\n",
    "                             'from': 8.13,\n",
    "                             'speaker': 0,\n",
    "                             'to': 8.49}]}"
   ]
  },
  {
   "cell_type": "code",
   "execution_count": 2,
   "metadata": {
    "collapsed": true
   },
   "outputs": [],
   "source": [
    "import pandas as pd\n",
    "import numpy as np\n",
    "import json "
   ]
  },
  {
   "cell_type": "code",
   "execution_count": 3,
   "metadata": {
    "collapsed": false
   },
   "outputs": [],
   "source": [
    "from makeDFfromJson import makeDFfromJson"
   ]
  },
  {
   "cell_type": "code",
   "execution_count": 4,
   "metadata": {
    "collapsed": false
   },
   "outputs": [],
   "source": [
    "DF0 = makeDFfromJson(ibm_out)"
   ]
  },
  {
   "cell_type": "code",
   "execution_count": 5,
   "metadata": {
    "collapsed": false
   },
   "outputs": [
    {
     "data": {
      "text/html": [
       "<div>\n",
       "<table border=\"1\" class=\"dataframe\">\n",
       "  <thead>\n",
       "    <tr style=\"text-align: right;\">\n",
       "      <th></th>\n",
       "      <th>resultIDX</th>\n",
       "      <th>Wd_list</th>\n",
       "      <th>SentConf</th>\n",
       "      <th>SpkConf</th>\n",
       "      <th>final</th>\n",
       "      <th>from</th>\n",
       "      <th>speaker</th>\n",
       "      <th>to</th>\n",
       "    </tr>\n",
       "  </thead>\n",
       "  <tbody>\n",
       "    <tr>\n",
       "      <th>0</th>\n",
       "      <td>0</td>\n",
       "      <td>I'm</td>\n",
       "      <td>0.817</td>\n",
       "      <td>0.500</td>\n",
       "      <td>False</td>\n",
       "      <td>0.70</td>\n",
       "      <td>0</td>\n",
       "      <td>0.86</td>\n",
       "    </tr>\n",
       "    <tr>\n",
       "      <th>1</th>\n",
       "      <td>0</td>\n",
       "      <td>saying</td>\n",
       "      <td>0.817</td>\n",
       "      <td>0.500</td>\n",
       "      <td>False</td>\n",
       "      <td>0.86</td>\n",
       "      <td>0</td>\n",
       "      <td>1.25</td>\n",
       "    </tr>\n",
       "    <tr>\n",
       "      <th>2</th>\n",
       "      <td>0</td>\n",
       "      <td>any</td>\n",
       "      <td>0.817</td>\n",
       "      <td>0.500</td>\n",
       "      <td>False</td>\n",
       "      <td>1.25</td>\n",
       "      <td>0</td>\n",
       "      <td>1.52</td>\n",
       "    </tr>\n",
       "    <tr>\n",
       "      <th>3</th>\n",
       "      <td>0</td>\n",
       "      <td>sentence</td>\n",
       "      <td>0.817</td>\n",
       "      <td>0.500</td>\n",
       "      <td>False</td>\n",
       "      <td>1.52</td>\n",
       "      <td>0</td>\n",
       "      <td>2.48</td>\n",
       "    </tr>\n",
       "    <tr>\n",
       "      <th>4</th>\n",
       "      <td>1</td>\n",
       "      <td>I</td>\n",
       "      <td>0.911</td>\n",
       "      <td>0.667</td>\n",
       "      <td>False</td>\n",
       "      <td>2.82</td>\n",
       "      <td>1</td>\n",
       "      <td>2.98</td>\n",
       "    </tr>\n",
       "    <tr>\n",
       "      <th>5</th>\n",
       "      <td>1</td>\n",
       "      <td>am</td>\n",
       "      <td>0.911</td>\n",
       "      <td>0.667</td>\n",
       "      <td>False</td>\n",
       "      <td>2.98</td>\n",
       "      <td>1</td>\n",
       "      <td>3.15</td>\n",
       "    </tr>\n",
       "    <tr>\n",
       "      <th>6</th>\n",
       "      <td>1</td>\n",
       "      <td>also</td>\n",
       "      <td>0.911</td>\n",
       "      <td>0.667</td>\n",
       "      <td>False</td>\n",
       "      <td>3.15</td>\n",
       "      <td>1</td>\n",
       "      <td>3.45</td>\n",
       "    </tr>\n",
       "    <tr>\n",
       "      <th>7</th>\n",
       "      <td>1</td>\n",
       "      <td>saying</td>\n",
       "      <td>0.911</td>\n",
       "      <td>0.667</td>\n",
       "      <td>False</td>\n",
       "      <td>3.45</td>\n",
       "      <td>1</td>\n",
       "      <td>3.78</td>\n",
       "    </tr>\n",
       "    <tr>\n",
       "      <th>8</th>\n",
       "      <td>1</td>\n",
       "      <td>any</td>\n",
       "      <td>0.911</td>\n",
       "      <td>0.667</td>\n",
       "      <td>False</td>\n",
       "      <td>3.78</td>\n",
       "      <td>1</td>\n",
       "      <td>4.07</td>\n",
       "    </tr>\n",
       "    <tr>\n",
       "      <th>9</th>\n",
       "      <td>1</td>\n",
       "      <td>sentence</td>\n",
       "      <td>0.911</td>\n",
       "      <td>0.667</td>\n",
       "      <td>False</td>\n",
       "      <td>4.07</td>\n",
       "      <td>1</td>\n",
       "      <td>4.75</td>\n",
       "    </tr>\n",
       "    <tr>\n",
       "      <th>10</th>\n",
       "      <td>2</td>\n",
       "      <td>yeah</td>\n",
       "      <td>0.34</td>\n",
       "      <td>0.478</td>\n",
       "      <td>False</td>\n",
       "      <td>7.28</td>\n",
       "      <td>2</td>\n",
       "      <td>7.62</td>\n",
       "    </tr>\n",
       "    <tr>\n",
       "      <th>11</th>\n",
       "      <td>2</td>\n",
       "      <td>yeah</td>\n",
       "      <td>0.34</td>\n",
       "      <td>0.454</td>\n",
       "      <td>True</td>\n",
       "      <td>8.13</td>\n",
       "      <td>0</td>\n",
       "      <td>8.49</td>\n",
       "    </tr>\n",
       "  </tbody>\n",
       "</table>\n",
       "</div>"
      ],
      "text/plain": [
       "   resultIDX   Wd_list SentConf  SpkConf  final  from  speaker    to\n",
       "0          0       I'm    0.817    0.500  False  0.70        0  0.86\n",
       "1          0    saying    0.817    0.500  False  0.86        0  1.25\n",
       "2          0       any    0.817    0.500  False  1.25        0  1.52\n",
       "3          0  sentence    0.817    0.500  False  1.52        0  2.48\n",
       "4          1         I    0.911    0.667  False  2.82        1  2.98\n",
       "5          1        am    0.911    0.667  False  2.98        1  3.15\n",
       "6          1      also    0.911    0.667  False  3.15        1  3.45\n",
       "7          1    saying    0.911    0.667  False  3.45        1  3.78\n",
       "8          1       any    0.911    0.667  False  3.78        1  4.07\n",
       "9          1  sentence    0.911    0.667  False  4.07        1  4.75\n",
       "10         2      yeah     0.34    0.478  False  7.28        2  7.62\n",
       "11         2      yeah     0.34    0.454   True  8.13        0  8.49"
      ]
     },
     "execution_count": 5,
     "metadata": {},
     "output_type": "execute_result"
    }
   ],
   "source": [
    "DF0"
   ]
  },
  {
   "cell_type": "code",
   "execution_count": null,
   "metadata": {
    "collapsed": true
   },
   "outputs": [],
   "source": []
  },
  {
   "cell_type": "code",
   "execution_count": 6,
   "metadata": {
    "collapsed": true
   },
   "outputs": [],
   "source": [
    "def addTimeDiff_toDF(df): ## from DF0 = makeDFfromJson(ibm_out)\n",
    "    df['timeDiff']='0'\n",
    "\n",
    "    for i in range(1, len(df)):\n",
    "        df.loc[i, 'timeDiff'] = df.loc[i-1, 'to'] - df.loc[i, 'from']\n",
    "\n",
    "    return df\n"
   ]
  },
  {
   "cell_type": "code",
   "execution_count": 7,
   "metadata": {
    "collapsed": false
   },
   "outputs": [
    {
     "data": {
      "text/html": [
       "<div>\n",
       "<table border=\"1\" class=\"dataframe\">\n",
       "  <thead>\n",
       "    <tr style=\"text-align: right;\">\n",
       "      <th></th>\n",
       "      <th>resultIDX</th>\n",
       "      <th>Wd_list</th>\n",
       "      <th>SentConf</th>\n",
       "      <th>SpkConf</th>\n",
       "      <th>final</th>\n",
       "      <th>from</th>\n",
       "      <th>speaker</th>\n",
       "      <th>to</th>\n",
       "      <th>timeDiff</th>\n",
       "    </tr>\n",
       "  </thead>\n",
       "  <tbody>\n",
       "    <tr>\n",
       "      <th>0</th>\n",
       "      <td>0</td>\n",
       "      <td>I'm</td>\n",
       "      <td>0.817</td>\n",
       "      <td>0.500</td>\n",
       "      <td>False</td>\n",
       "      <td>0.70</td>\n",
       "      <td>0</td>\n",
       "      <td>0.86</td>\n",
       "      <td>0</td>\n",
       "    </tr>\n",
       "    <tr>\n",
       "      <th>1</th>\n",
       "      <td>0</td>\n",
       "      <td>saying</td>\n",
       "      <td>0.817</td>\n",
       "      <td>0.500</td>\n",
       "      <td>False</td>\n",
       "      <td>0.86</td>\n",
       "      <td>0</td>\n",
       "      <td>1.25</td>\n",
       "      <td>0</td>\n",
       "    </tr>\n",
       "    <tr>\n",
       "      <th>2</th>\n",
       "      <td>0</td>\n",
       "      <td>any</td>\n",
       "      <td>0.817</td>\n",
       "      <td>0.500</td>\n",
       "      <td>False</td>\n",
       "      <td>1.25</td>\n",
       "      <td>0</td>\n",
       "      <td>1.52</td>\n",
       "      <td>0</td>\n",
       "    </tr>\n",
       "    <tr>\n",
       "      <th>3</th>\n",
       "      <td>0</td>\n",
       "      <td>sentence</td>\n",
       "      <td>0.817</td>\n",
       "      <td>0.500</td>\n",
       "      <td>False</td>\n",
       "      <td>1.52</td>\n",
       "      <td>0</td>\n",
       "      <td>2.48</td>\n",
       "      <td>0</td>\n",
       "    </tr>\n",
       "    <tr>\n",
       "      <th>4</th>\n",
       "      <td>1</td>\n",
       "      <td>I</td>\n",
       "      <td>0.911</td>\n",
       "      <td>0.667</td>\n",
       "      <td>False</td>\n",
       "      <td>2.82</td>\n",
       "      <td>1</td>\n",
       "      <td>2.98</td>\n",
       "      <td>-0.34</td>\n",
       "    </tr>\n",
       "    <tr>\n",
       "      <th>5</th>\n",
       "      <td>1</td>\n",
       "      <td>am</td>\n",
       "      <td>0.911</td>\n",
       "      <td>0.667</td>\n",
       "      <td>False</td>\n",
       "      <td>2.98</td>\n",
       "      <td>1</td>\n",
       "      <td>3.15</td>\n",
       "      <td>0</td>\n",
       "    </tr>\n",
       "    <tr>\n",
       "      <th>6</th>\n",
       "      <td>1</td>\n",
       "      <td>also</td>\n",
       "      <td>0.911</td>\n",
       "      <td>0.667</td>\n",
       "      <td>False</td>\n",
       "      <td>3.15</td>\n",
       "      <td>1</td>\n",
       "      <td>3.45</td>\n",
       "      <td>0</td>\n",
       "    </tr>\n",
       "    <tr>\n",
       "      <th>7</th>\n",
       "      <td>1</td>\n",
       "      <td>saying</td>\n",
       "      <td>0.911</td>\n",
       "      <td>0.667</td>\n",
       "      <td>False</td>\n",
       "      <td>3.45</td>\n",
       "      <td>1</td>\n",
       "      <td>3.78</td>\n",
       "      <td>0</td>\n",
       "    </tr>\n",
       "    <tr>\n",
       "      <th>8</th>\n",
       "      <td>1</td>\n",
       "      <td>any</td>\n",
       "      <td>0.911</td>\n",
       "      <td>0.667</td>\n",
       "      <td>False</td>\n",
       "      <td>3.78</td>\n",
       "      <td>1</td>\n",
       "      <td>4.07</td>\n",
       "      <td>0</td>\n",
       "    </tr>\n",
       "    <tr>\n",
       "      <th>9</th>\n",
       "      <td>1</td>\n",
       "      <td>sentence</td>\n",
       "      <td>0.911</td>\n",
       "      <td>0.667</td>\n",
       "      <td>False</td>\n",
       "      <td>4.07</td>\n",
       "      <td>1</td>\n",
       "      <td>4.75</td>\n",
       "      <td>0</td>\n",
       "    </tr>\n",
       "    <tr>\n",
       "      <th>10</th>\n",
       "      <td>2</td>\n",
       "      <td>yeah</td>\n",
       "      <td>0.34</td>\n",
       "      <td>0.478</td>\n",
       "      <td>False</td>\n",
       "      <td>7.28</td>\n",
       "      <td>2</td>\n",
       "      <td>7.62</td>\n",
       "      <td>-2.53</td>\n",
       "    </tr>\n",
       "    <tr>\n",
       "      <th>11</th>\n",
       "      <td>2</td>\n",
       "      <td>yeah</td>\n",
       "      <td>0.34</td>\n",
       "      <td>0.454</td>\n",
       "      <td>True</td>\n",
       "      <td>8.13</td>\n",
       "      <td>0</td>\n",
       "      <td>8.49</td>\n",
       "      <td>-0.51</td>\n",
       "    </tr>\n",
       "  </tbody>\n",
       "</table>\n",
       "</div>"
      ],
      "text/plain": [
       "   resultIDX   Wd_list SentConf  SpkConf  final  from  speaker    to timeDiff\n",
       "0          0       I'm    0.817    0.500  False  0.70        0  0.86        0\n",
       "1          0    saying    0.817    0.500  False  0.86        0  1.25        0\n",
       "2          0       any    0.817    0.500  False  1.25        0  1.52        0\n",
       "3          0  sentence    0.817    0.500  False  1.52        0  2.48        0\n",
       "4          1         I    0.911    0.667  False  2.82        1  2.98    -0.34\n",
       "5          1        am    0.911    0.667  False  2.98        1  3.15        0\n",
       "6          1      also    0.911    0.667  False  3.15        1  3.45        0\n",
       "7          1    saying    0.911    0.667  False  3.45        1  3.78        0\n",
       "8          1       any    0.911    0.667  False  3.78        1  4.07        0\n",
       "9          1  sentence    0.911    0.667  False  4.07        1  4.75        0\n",
       "10         2      yeah     0.34    0.478  False  7.28        2  7.62    -2.53\n",
       "11         2      yeah     0.34    0.454   True  8.13        0  8.49    -0.51"
      ]
     },
     "execution_count": 7,
     "metadata": {},
     "output_type": "execute_result"
    }
   ],
   "source": [
    "DF1 = addTimeDiff_toDF(DF0)\n",
    "DF1 "
   ]
  },
  {
   "cell_type": "code",
   "execution_count": null,
   "metadata": {
    "collapsed": true
   },
   "outputs": [],
   "source": []
  },
  {
   "cell_type": "code",
   "execution_count": 8,
   "metadata": {
    "collapsed": true
   },
   "outputs": [],
   "source": [
    "def findTimeDiffIDX(df):\n",
    "    TimeDiffIDX = df[df.timeDiff!=0].index.tolist()\n",
    "    \n",
    "    if (len(df)-1 in TimeDiffIDX) == True:\n",
    "        TimeDiffIDX.extend([len(df)])\n",
    "        \n",
    "    return TimeDiffIDX"
   ]
  },
  {
   "cell_type": "code",
   "execution_count": 9,
   "metadata": {
    "collapsed": false
   },
   "outputs": [
    {
     "data": {
      "text/plain": [
       "[0, 4, 10, 11, 12]"
      ]
     },
     "execution_count": 9,
     "metadata": {},
     "output_type": "execute_result"
    }
   ],
   "source": [
    "TimeDiffIDX = findTimeDiffIDX(DF1)\n",
    "TimeDiffIDX"
   ]
  },
  {
   "cell_type": "code",
   "execution_count": null,
   "metadata": {
    "collapsed": true
   },
   "outputs": [],
   "source": []
  },
  {
   "cell_type": "code",
   "execution_count": 10,
   "metadata": {
    "collapsed": true
   },
   "outputs": [],
   "source": [
    "def get_SentenceNtofrom(df,TimeDiffIDX):\n",
    "    \n",
    "    AllSents=[]\n",
    "    AllS=[]\n",
    "    AllE=[]\n",
    "\n",
    "    for i,idx in enumerate (range(1, len(TimeDiffIDX))) :\n",
    "        #  print (i, idx)\n",
    "        wdL = df.loc[TimeDiffIDX[idx-1]:TimeDiffIDX[idx]-1,'Wd_list'].tolist()\n",
    "        sentence = ' '.join(wdL)\n",
    "        AllSents.append(sentence)\n",
    "\n",
    "        S, E = df.loc[TimeDiffIDX[idx-1],'from'] , df.loc[TimeDiffIDX[idx]-1,'to']\n",
    "        AllS.extend([S])\n",
    "        AllE.extend([E])\n",
    "\n",
    "        #print(sentence,S,E)\n",
    "        tofromSent_tmp = dict(zip(['from','to','sentences'],[AllS,AllE,AllSents]))\n",
    "        tofromSent = pd.DataFrame(tofromSent_tmp, columns=['from','to','sentences'])\n",
    "\n",
    "    return tofromSent"
   ]
  },
  {
   "cell_type": "code",
   "execution_count": 11,
   "metadata": {
    "collapsed": false
   },
   "outputs": [
    {
     "data": {
      "text/html": [
       "<div>\n",
       "<table border=\"1\" class=\"dataframe\">\n",
       "  <thead>\n",
       "    <tr style=\"text-align: right;\">\n",
       "      <th></th>\n",
       "      <th>from</th>\n",
       "      <th>to</th>\n",
       "      <th>sentences</th>\n",
       "    </tr>\n",
       "  </thead>\n",
       "  <tbody>\n",
       "    <tr>\n",
       "      <th>0</th>\n",
       "      <td>0.70</td>\n",
       "      <td>2.48</td>\n",
       "      <td>I'm saying any sentence</td>\n",
       "    </tr>\n",
       "    <tr>\n",
       "      <th>1</th>\n",
       "      <td>2.82</td>\n",
       "      <td>4.75</td>\n",
       "      <td>I am also saying any sentence</td>\n",
       "    </tr>\n",
       "    <tr>\n",
       "      <th>2</th>\n",
       "      <td>7.28</td>\n",
       "      <td>7.62</td>\n",
       "      <td>yeah</td>\n",
       "    </tr>\n",
       "    <tr>\n",
       "      <th>3</th>\n",
       "      <td>8.13</td>\n",
       "      <td>8.49</td>\n",
       "      <td>yeah</td>\n",
       "    </tr>\n",
       "  </tbody>\n",
       "</table>\n",
       "</div>"
      ],
      "text/plain": [
       "   from    to                      sentences\n",
       "0  0.70  2.48        I'm saying any sentence\n",
       "1  2.82  4.75  I am also saying any sentence\n",
       "2  7.28  7.62                           yeah\n",
       "3  8.13  8.49                           yeah"
      ]
     },
     "execution_count": 11,
     "metadata": {},
     "output_type": "execute_result"
    }
   ],
   "source": [
    "tofromSent = get_SentenceNtofrom(DF1,TimeDiffIDX)\n",
    "tofromSent\n",
    "# pd.DataFrame(tofromSent, columns=['from','to','sentences'])"
   ]
  },
  {
   "cell_type": "code",
   "execution_count": null,
   "metadata": {
    "collapsed": true
   },
   "outputs": [],
   "source": []
  },
  {
   "cell_type": "code",
   "execution_count": 13,
   "metadata": {
    "collapsed": true
   },
   "outputs": [],
   "source": [
    "def get_SentenceInfo(df,TimeDiffIDX):\n",
    "\n",
    "    dftmp=pd.DataFrame()\n",
    "\n",
    "    for i,idx in enumerate (range(1, len(TimeDiffIDX))) :\n",
    "        tmp = df.loc[TimeDiffIDX[idx-1]:TimeDiffIDX[idx]-1,\n",
    "                      ['resultIDX','SentConf', 'SpkConf', 'final', 'speaker',  'timeDiff'] ].drop_duplicates(subset='speaker')\n",
    "        #print(tmp)\n",
    "        dftmp = pd.concat([dftmp,pd.DataFrame(tmp)])\n",
    "    \n",
    "    return dftmp\n"
   ]
  },
  {
   "cell_type": "code",
   "execution_count": 16,
   "metadata": {
    "collapsed": false
   },
   "outputs": [
    {
     "data": {
      "text/html": [
       "<div>\n",
       "<table border=\"1\" class=\"dataframe\">\n",
       "  <thead>\n",
       "    <tr style=\"text-align: right;\">\n",
       "      <th></th>\n",
       "      <th>resultIDX</th>\n",
       "      <th>SentConf</th>\n",
       "      <th>SpkConf</th>\n",
       "      <th>final</th>\n",
       "      <th>speaker</th>\n",
       "      <th>timeDiff</th>\n",
       "    </tr>\n",
       "  </thead>\n",
       "  <tbody>\n",
       "    <tr>\n",
       "      <th>0</th>\n",
       "      <td>0</td>\n",
       "      <td>0.817</td>\n",
       "      <td>0.500</td>\n",
       "      <td>False</td>\n",
       "      <td>0</td>\n",
       "      <td>0</td>\n",
       "    </tr>\n",
       "    <tr>\n",
       "      <th>1</th>\n",
       "      <td>1</td>\n",
       "      <td>0.911</td>\n",
       "      <td>0.667</td>\n",
       "      <td>False</td>\n",
       "      <td>1</td>\n",
       "      <td>-0.34</td>\n",
       "    </tr>\n",
       "    <tr>\n",
       "      <th>2</th>\n",
       "      <td>2</td>\n",
       "      <td>0.34</td>\n",
       "      <td>0.478</td>\n",
       "      <td>False</td>\n",
       "      <td>2</td>\n",
       "      <td>-2.53</td>\n",
       "    </tr>\n",
       "    <tr>\n",
       "      <th>3</th>\n",
       "      <td>2</td>\n",
       "      <td>0.34</td>\n",
       "      <td>0.454</td>\n",
       "      <td>True</td>\n",
       "      <td>0</td>\n",
       "      <td>-0.51</td>\n",
       "    </tr>\n",
       "  </tbody>\n",
       "</table>\n",
       "</div>"
      ],
      "text/plain": [
       "  resultIDX SentConf  SpkConf  final  speaker timeDiff\n",
       "0         0    0.817    0.500  False        0        0\n",
       "1         1    0.911    0.667  False        1    -0.34\n",
       "2         2     0.34    0.478  False        2    -2.53\n",
       "3         2     0.34    0.454   True        0    -0.51"
      ]
     },
     "execution_count": 16,
     "metadata": {},
     "output_type": "execute_result"
    }
   ],
   "source": [
    "SentenceInfo = get_SentenceInfo(DF1,TimeDiffIDX)\n",
    "SentenceInfo.reset_index(drop=True)"
   ]
  },
  {
   "cell_type": "code",
   "execution_count": null,
   "metadata": {
    "collapsed": true
   },
   "outputs": [],
   "source": []
  },
  {
   "cell_type": "code",
   "execution_count": 17,
   "metadata": {
    "collapsed": false
   },
   "outputs": [
    {
     "data": {
      "text/html": [
       "<div>\n",
       "<table border=\"1\" class=\"dataframe\">\n",
       "  <thead>\n",
       "    <tr style=\"text-align: right;\">\n",
       "      <th></th>\n",
       "      <th>resultIDX</th>\n",
       "      <th>SentConf</th>\n",
       "      <th>SpkConf</th>\n",
       "      <th>final</th>\n",
       "      <th>speaker</th>\n",
       "      <th>timeDiff</th>\n",
       "      <th>from</th>\n",
       "      <th>to</th>\n",
       "      <th>sentences</th>\n",
       "    </tr>\n",
       "  </thead>\n",
       "  <tbody>\n",
       "    <tr>\n",
       "      <th>0</th>\n",
       "      <td>0</td>\n",
       "      <td>0.817</td>\n",
       "      <td>0.500</td>\n",
       "      <td>False</td>\n",
       "      <td>0</td>\n",
       "      <td>0</td>\n",
       "      <td>0.70</td>\n",
       "      <td>2.48</td>\n",
       "      <td>I'm saying any sentence</td>\n",
       "    </tr>\n",
       "    <tr>\n",
       "      <th>1</th>\n",
       "      <td>1</td>\n",
       "      <td>0.911</td>\n",
       "      <td>0.667</td>\n",
       "      <td>False</td>\n",
       "      <td>1</td>\n",
       "      <td>-0.34</td>\n",
       "      <td>2.82</td>\n",
       "      <td>4.75</td>\n",
       "      <td>I am also saying any sentence</td>\n",
       "    </tr>\n",
       "    <tr>\n",
       "      <th>2</th>\n",
       "      <td>2</td>\n",
       "      <td>0.34</td>\n",
       "      <td>0.478</td>\n",
       "      <td>False</td>\n",
       "      <td>2</td>\n",
       "      <td>-2.53</td>\n",
       "      <td>7.28</td>\n",
       "      <td>7.62</td>\n",
       "      <td>yeah</td>\n",
       "    </tr>\n",
       "    <tr>\n",
       "      <th>3</th>\n",
       "      <td>2</td>\n",
       "      <td>0.34</td>\n",
       "      <td>0.454</td>\n",
       "      <td>True</td>\n",
       "      <td>0</td>\n",
       "      <td>-0.51</td>\n",
       "      <td>8.13</td>\n",
       "      <td>8.49</td>\n",
       "      <td>yeah</td>\n",
       "    </tr>\n",
       "  </tbody>\n",
       "</table>\n",
       "</div>"
      ],
      "text/plain": [
       "  resultIDX SentConf  SpkConf  final  speaker timeDiff  from    to  \\\n",
       "0         0    0.817    0.500  False        0        0  0.70  2.48   \n",
       "1         1    0.911    0.667  False        1    -0.34  2.82  4.75   \n",
       "2         2     0.34    0.478  False        2    -2.53  7.28  7.62   \n",
       "3         2     0.34    0.454   True        0    -0.51  8.13  8.49   \n",
       "\n",
       "                       sentences  \n",
       "0        I'm saying any sentence  \n",
       "1  I am also saying any sentence  \n",
       "2                           yeah  \n",
       "3                           yeah  "
      ]
     },
     "execution_count": 17,
     "metadata": {},
     "output_type": "execute_result"
    }
   ],
   "source": [
    "DF2 = pd.concat([SentenceInfo.reset_index(drop=True),tofromSent],axis=1)\n",
    "DF2"
   ]
  },
  {
   "cell_type": "code",
   "execution_count": null,
   "metadata": {
    "collapsed": true
   },
   "outputs": [],
   "source": []
  },
  {
   "cell_type": "code",
   "execution_count": null,
   "metadata": {
    "collapsed": true
   },
   "outputs": [],
   "source": []
  },
  {
   "cell_type": "code",
   "execution_count": 18,
   "metadata": {
    "collapsed": true
   },
   "outputs": [],
   "source": [
    "def make_SpeakerDict(df):\n",
    "    from collections import defaultdict\n",
    "\n",
    "    speakerList = df.speaker.unique().tolist()\n",
    "\n",
    "    speakerDict = defaultdict(lambda: defaultdict(int))\n",
    "\n",
    "    for i in speakerList:\n",
    "        speakerDict[str(i)] = {'sentences' : ' \\n '.join(df[df.speaker==i].sentences.values.tolist())}\n",
    "\n",
    "    # add other info in dict of dict: speakerDict['0']['dur'] = 10000\n",
    "\n",
    "    return speakerDict"
   ]
  },
  {
   "cell_type": "code",
   "execution_count": 19,
   "metadata": {
    "collapsed": true
   },
   "outputs": [],
   "source": [
    "speakerDict = make_SpeakerDict(DF2)"
   ]
  },
  {
   "cell_type": "code",
   "execution_count": 20,
   "metadata": {
    "collapsed": false
   },
   "outputs": [
    {
     "data": {
      "text/plain": [
       "defaultdict(<function __main__.make_SpeakerDict.<locals>.<lambda>>,\n",
       "            {'0': {'sentences': \"I'm saying any sentence \\n yeah\"},\n",
       "             '1': {'sentences': 'I am also saying any sentence'},\n",
       "             '2': {'sentences': 'yeah'}})"
      ]
     },
     "execution_count": 20,
     "metadata": {},
     "output_type": "execute_result"
    }
   ],
   "source": [
    "speakerDict"
   ]
  },
  {
   "cell_type": "code",
   "execution_count": 21,
   "metadata": {
    "collapsed": false
   },
   "outputs": [
    {
     "data": {
      "text/plain": [
       "{'sentences': 'I am also saying any sentence'}"
      ]
     },
     "execution_count": 21,
     "metadata": {},
     "output_type": "execute_result"
    }
   ],
   "source": [
    "speakerDict['1']"
   ]
  },
  {
   "cell_type": "code",
   "execution_count": null,
   "metadata": {
    "collapsed": true
   },
   "outputs": [],
   "source": []
  }
 ],
 "metadata": {
  "kernelspec": {
   "display_name": "Python 3",
   "language": "python",
   "name": "python3"
  },
  "language_info": {
   "codemirror_mode": {
    "name": "ipython",
    "version": 3
   },
   "file_extension": ".py",
   "mimetype": "text/x-python",
   "name": "python",
   "nbconvert_exporter": "python",
   "pygments_lexer": "ipython3",
   "version": "3.6.0"
  }
 },
 "nbformat": 4,
 "nbformat_minor": 2
}
