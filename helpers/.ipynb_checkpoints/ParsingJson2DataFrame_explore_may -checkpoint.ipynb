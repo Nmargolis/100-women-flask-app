{
 "cells": [
  {
   "cell_type": "code",
   "execution_count": 1,
   "metadata": {
    "collapsed": true
   },
   "outputs": [],
   "source": [
    "import pandas as pd\n",
    "import json"
   ]
  },
  {
   "cell_type": "code",
   "execution_count": 28,
   "metadata": {
    "collapsed": true
   },
   "outputs": [],
   "source": [
    "ibm_out=    {'result_index': 0,\n",
    "         'results': [{'alternatives': [{'confidence': 0.817,\n",
    "                                        'timestamps': [[\"I'm\", 0.7, 0.86],\n",
    "                                                       ['saying', 0.86, 1.25],\n",
    "                                                       ['any', 1.25, 1.52],\n",
    "                                                       ['sentence', 1.52, 2.48]],\n",
    "                                        'transcript': \"I'm saying any sentence \"}],\n",
    "                      'final': True},\n",
    "                     {'alternatives': [{'confidence': 0.911,\n",
    "                                        'timestamps': [['I', 2.82, 2.98],\n",
    "                                                       ['am', 2.98, 3.15],\n",
    "                                                       ['also', 3.15, 3.45],\n",
    "                                                       ['saying', 3.45, 3.78],\n",
    "                                                       ['any', 3.78, 4.07],\n",
    "                                                       ['sentence', 4.07, 4.75]],\n",
    "                                        'transcript': 'I am also saying any '\n",
    "                                                      'sentence '}],\n",
    "                      'final': True},\n",
    "                     {'alternatives': [{'confidence': 0.34,\n",
    "                                        'timestamps': [['yeah', 7.28, 7.62],\n",
    "                                                       ['yeah', 8.13, 8.49]],\n",
    "                                        'transcript': 'yeah yeah '}],\n",
    "                      'final': True}],\n",
    "         'speaker_labels': [{'confidence': 0.5,\n",
    "                             'final': False,\n",
    "                             'from': 0.7,\n",
    "                             'speaker': 0,\n",
    "                             'to': 0.86},\n",
    "                            {'confidence': 0.5,\n",
    "                             'final': False,\n",
    "                             'from': 0.86,\n",
    "                             'speaker': 0,\n",
    "                             'to': 1.25},\n",
    "                            {'confidence': 0.5,\n",
    "                             'final': False,\n",
    "                             'from': 1.25,\n",
    "                             'speaker': 0,\n",
    "                             'to': 1.52},\n",
    "                            {'confidence': 0.5,\n",
    "                             'final': False,\n",
    "                             'from': 1.52,\n",
    "                             'speaker': 0,\n",
    "                             'to': 2.48},\n",
    "                            {'confidence': 0.667,\n",
    "                             'final': False,\n",
    "                             'from': 2.82,\n",
    "                             'speaker': 1,\n",
    "                             'to': 2.98},\n",
    "                            {'confidence': 0.667,\n",
    "                             'final': False,\n",
    "                             'from': 2.98,\n",
    "                             'speaker': 1,\n",
    "                             'to': 3.15},\n",
    "                            {'confidence': 0.667,\n",
    "                             'final': False,\n",
    "                             'from': 3.15,\n",
    "                             'speaker': 1,\n",
    "                             'to': 3.45},\n",
    "                            {'confidence': 0.667,\n",
    "                             'final': False,\n",
    "                             'from': 3.45,\n",
    "                             'speaker': 1,\n",
    "                             'to': 3.78},\n",
    "                            {'confidence': 0.667,\n",
    "                             'final': False,\n",
    "                             'from': 3.78,\n",
    "                             'speaker': 1,\n",
    "                             'to': 4.07},\n",
    "                            {'confidence': 0.667,\n",
    "                             'final': False,\n",
    "                             'from': 4.07,\n",
    "                             'speaker': 1,\n",
    "                             'to': 4.75},\n",
    "                            {'confidence': 0.478,\n",
    "                             'final': False,\n",
    "                             'from': 7.28,\n",
    "                             'speaker': 2,\n",
    "                             'to': 7.62},\n",
    "                            {'confidence': 0.454,\n",
    "                             'final': True,\n",
    "                             'from': 8.13,\n",
    "                             'speaker': 0,\n",
    "                             'to': 8.49}]}"
   ]
  },
  {
   "cell_type": "code",
   "execution_count": 29,
   "metadata": {
    "collapsed": false
   },
   "outputs": [
    {
     "data": {
      "text/plain": [
       "dict"
      ]
     },
     "execution_count": 29,
     "metadata": {},
     "output_type": "execute_result"
    }
   ],
   "source": [
    "type(ibm_out)"
   ]
  },
  {
   "cell_type": "code",
   "execution_count": 30,
   "metadata": {
    "collapsed": true
   },
   "outputs": [],
   "source": [
    "ibm_json=json.dumps(ibm_out)"
   ]
  },
  {
   "cell_type": "code",
   "execution_count": 31,
   "metadata": {
    "collapsed": false
   },
   "outputs": [
    {
     "data": {
      "text/plain": [
       "str"
      ]
     },
     "execution_count": 31,
     "metadata": {},
     "output_type": "execute_result"
    }
   ],
   "source": [
    "type(ibm_json)"
   ]
  },
  {
   "cell_type": "code",
   "execution_count": 7,
   "metadata": {
    "collapsed": false
   },
   "outputs": [
    {
     "data": {
      "text/plain": [
       "dict_keys(['result_index', 'results', 'speaker_labels'])"
      ]
     },
     "execution_count": 7,
     "metadata": {},
     "output_type": "execute_result"
    }
   ],
   "source": [
    "ibm_out.keys()"
   ]
  },
  {
   "cell_type": "code",
   "execution_count": 8,
   "metadata": {
    "collapsed": false
   },
   "outputs": [
    {
     "data": {
      "text/plain": [
       "dict_values([0, [{'alternatives': [{'confidence': 0.817, 'timestamps': [[\"I'm\", 0.7, 0.86], ['saying', 0.86, 1.25], ['any', 1.25, 1.52], ['sentence', 1.52, 2.48]], 'transcript': \"I'm saying any sentence \"}], 'final': True}, {'alternatives': [{'confidence': 0.911, 'timestamps': [['I', 2.82, 2.98], ['am', 2.98, 3.15], ['also', 3.15, 3.45], ['saying', 3.45, 3.78], ['any', 3.78, 4.07], ['sentence', 4.07, 4.75]], 'transcript': 'I am also saying any sentence '}], 'final': True}, {'alternatives': [{'confidence': 0.34, 'timestamps': [['yeah', 7.28, 7.62], ['yeah', 8.13, 8.49]], 'transcript': 'yeah yeah '}], 'final': True}], [{'confidence': 0.5, 'final': False, 'from': 0.7, 'speaker': 0, 'to': 0.86}, {'confidence': 0.5, 'final': False, 'from': 0.86, 'speaker': 0, 'to': 1.25}, {'confidence': 0.5, 'final': False, 'from': 1.25, 'speaker': 0, 'to': 1.52}, {'confidence': 0.5, 'final': False, 'from': 1.52, 'speaker': 0, 'to': 2.48}, {'confidence': 0.667, 'final': False, 'from': 2.82, 'speaker': 1, 'to': 2.98}, {'confidence': 0.667, 'final': False, 'from': 2.98, 'speaker': 1, 'to': 3.15}, {'confidence': 0.667, 'final': False, 'from': 3.15, 'speaker': 1, 'to': 3.45}, {'confidence': 0.667, 'final': False, 'from': 3.45, 'speaker': 1, 'to': 3.78}, {'confidence': 0.667, 'final': False, 'from': 3.78, 'speaker': 1, 'to': 4.07}, {'confidence': 0.667, 'final': False, 'from': 4.07, 'speaker': 1, 'to': 4.75}, {'confidence': 0.478, 'final': False, 'from': 7.28, 'speaker': 2, 'to': 7.62}, {'confidence': 0.454, 'final': True, 'from': 8.13, 'speaker': 0, 'to': 8.49}]])"
      ]
     },
     "execution_count": 8,
     "metadata": {},
     "output_type": "execute_result"
    }
   ],
   "source": [
    "ibm_out.values()"
   ]
  },
  {
   "cell_type": "code",
   "execution_count": 13,
   "metadata": {
    "collapsed": false
   },
   "outputs": [
    {
     "data": {
      "text/plain": [
       "(0, 3, 12)"
      ]
     },
     "execution_count": 13,
     "metadata": {},
     "output_type": "execute_result"
    }
   ],
   "source": [
    "ibm_out['result_index'], len(ibm_out['results']) , len(ibm_out['speaker_labels'])"
   ]
  },
  {
   "cell_type": "code",
   "execution_count": 15,
   "metadata": {
    "collapsed": false
   },
   "outputs": [
    {
     "data": {
      "text/plain": [
       "[{'alternatives': [{'confidence': 0.817,\n",
       "    'timestamps': [[\"I'm\", 0.7, 0.86],\n",
       "     ['saying', 0.86, 1.25],\n",
       "     ['any', 1.25, 1.52],\n",
       "     ['sentence', 1.52, 2.48]],\n",
       "    'transcript': \"I'm saying any sentence \"}],\n",
       "  'final': True},\n",
       " {'alternatives': [{'confidence': 0.911,\n",
       "    'timestamps': [['I', 2.82, 2.98],\n",
       "     ['am', 2.98, 3.15],\n",
       "     ['also', 3.15, 3.45],\n",
       "     ['saying', 3.45, 3.78],\n",
       "     ['any', 3.78, 4.07],\n",
       "     ['sentence', 4.07, 4.75]],\n",
       "    'transcript': 'I am also saying any sentence '}],\n",
       "  'final': True},\n",
       " {'alternatives': [{'confidence': 0.34,\n",
       "    'timestamps': [['yeah', 7.28, 7.62], ['yeah', 8.13, 8.49]],\n",
       "    'transcript': 'yeah yeah '}],\n",
       "  'final': True}]"
      ]
     },
     "execution_count": 15,
     "metadata": {},
     "output_type": "execute_result"
    }
   ],
   "source": [
    "[i for i in ibm_out['results'] ]\n"
   ]
  },
  {
   "cell_type": "code",
   "execution_count": 17,
   "metadata": {
    "collapsed": false
   },
   "outputs": [
    {
     "data": {
      "text/plain": [
       "{'alternatives': [{'confidence': 0.817,\n",
       "   'timestamps': [[\"I'm\", 0.7, 0.86],\n",
       "    ['saying', 0.86, 1.25],\n",
       "    ['any', 1.25, 1.52],\n",
       "    ['sentence', 1.52, 2.48]],\n",
       "   'transcript': \"I'm saying any sentence \"}],\n",
       " 'final': True}"
      ]
     },
     "execution_count": 17,
     "metadata": {},
     "output_type": "execute_result"
    }
   ],
   "source": [
    "ibm_out['results'][0]"
   ]
  },
  {
   "cell_type": "code",
   "execution_count": null,
   "metadata": {
    "collapsed": true
   },
   "outputs": [],
   "source": []
  },
  {
   "cell_type": "code",
   "execution_count": null,
   "metadata": {
    "collapsed": true
   },
   "outputs": [],
   "source": []
  },
  {
   "cell_type": "code",
   "execution_count": null,
   "metadata": {
    "collapsed": true
   },
   "outputs": [],
   "source": []
  },
  {
   "cell_type": "code",
   "execution_count": null,
   "metadata": {
    "collapsed": true
   },
   "outputs": [],
   "source": []
  },
  {
   "cell_type": "code",
   "execution_count": 41,
   "metadata": {
    "collapsed": false
   },
   "outputs": [
    {
     "data": {
      "text/html": [
       "<div>\n",
       "<style>\n",
       "    .dataframe thead tr:only-child th {\n",
       "        text-align: right;\n",
       "    }\n",
       "\n",
       "    .dataframe thead th {\n",
       "        text-align: left;\n",
       "    }\n",
       "\n",
       "    .dataframe tbody tr th {\n",
       "        vertical-align: top;\n",
       "    }\n",
       "</style>\n",
       "<table border=\"1\" class=\"dataframe\">\n",
       "  <thead>\n",
       "    <tr style=\"text-align: right;\">\n",
       "      <th></th>\n",
       "      <th>0</th>\n",
       "      <th>1</th>\n",
       "      <th>2</th>\n",
       "    </tr>\n",
       "  </thead>\n",
       "  <tbody>\n",
       "    <tr>\n",
       "      <th>index</th>\n",
       "      <td>result_index</td>\n",
       "      <td>results</td>\n",
       "      <td>speaker_labels</td>\n",
       "    </tr>\n",
       "    <tr>\n",
       "      <th>0</th>\n",
       "      <td>0</td>\n",
       "      <td>[{'alternatives': [{'confidence': 0.817, 'time...</td>\n",
       "      <td>[{'confidence': 0.5, 'final': False, 'from': 0...</td>\n",
       "    </tr>\n",
       "  </tbody>\n",
       "</table>\n",
       "</div>"
      ],
      "text/plain": [
       "                  0                                                  1  \\\n",
       "index  result_index                                            results   \n",
       "0                 0  [{'alternatives': [{'confidence': 0.817, 'time...   \n",
       "\n",
       "                                                       2  \n",
       "index                                     speaker_labels  \n",
       "0      [{'confidence': 0.5, 'final': False, 'from': 0...  "
      ]
     },
     "execution_count": 41,
     "metadata": {},
     "output_type": "execute_result"
    }
   ],
   "source": [
    "df=pd.DataFrame.from_dict(ibm_out, orient='index')\n",
    "df.reset_index(level=0, inplace=True)\n",
    "df.T"
   ]
  },
  {
   "cell_type": "code",
   "execution_count": null,
   "metadata": {
    "collapsed": true
   },
   "outputs": [],
   "source": []
  },
  {
   "cell_type": "code",
   "execution_count": null,
   "metadata": {
    "collapsed": true
   },
   "outputs": [],
   "source": []
  },
  {
   "cell_type": "code",
   "execution_count": 46,
   "metadata": {
    "collapsed": false
   },
   "outputs": [
    {
     "data": {
      "text/plain": [
       "dict_keys(['alternatives', 'final'])"
      ]
     },
     "execution_count": 46,
     "metadata": {},
     "output_type": "execute_result"
    }
   ],
   "source": [
    "ibm_out['results'][0].keys()"
   ]
  },
  {
   "cell_type": "code",
   "execution_count": 54,
   "metadata": {
    "collapsed": false
   },
   "outputs": [
    {
     "data": {
      "text/plain": [
       "list"
      ]
     },
     "execution_count": 54,
     "metadata": {},
     "output_type": "execute_result"
    }
   ],
   "source": [
    "type(ibm_out['results'][0]['alternatives'])"
   ]
  },
  {
   "cell_type": "code",
   "execution_count": 55,
   "metadata": {
    "collapsed": false
   },
   "outputs": [
    {
     "data": {
      "text/plain": [
       "[{'confidence': 0.817,\n",
       "  'timestamps': [[\"I'm\", 0.7, 0.86],\n",
       "   ['saying', 0.86, 1.25],\n",
       "   ['any', 1.25, 1.52],\n",
       "   ['sentence', 1.52, 2.48]],\n",
       "  'transcript': \"I'm saying any sentence \"}]"
      ]
     },
     "execution_count": 55,
     "metadata": {},
     "output_type": "execute_result"
    }
   ],
   "source": [
    "ibm_out['results'][0]['alternatives']"
   ]
  },
  {
   "cell_type": "code",
   "execution_count": 58,
   "metadata": {
    "collapsed": false
   },
   "outputs": [
    {
     "data": {
      "text/html": [
       "<div>\n",
       "<style>\n",
       "    .dataframe thead tr:only-child th {\n",
       "        text-align: right;\n",
       "    }\n",
       "\n",
       "    .dataframe thead th {\n",
       "        text-align: left;\n",
       "    }\n",
       "\n",
       "    .dataframe tbody tr th {\n",
       "        vertical-align: top;\n",
       "    }\n",
       "</style>\n",
       "<table border=\"1\" class=\"dataframe\">\n",
       "  <thead>\n",
       "    <tr style=\"text-align: right;\">\n",
       "      <th></th>\n",
       "      <th>confidence</th>\n",
       "      <th>timestamps</th>\n",
       "      <th>transcript</th>\n",
       "    </tr>\n",
       "  </thead>\n",
       "  <tbody>\n",
       "    <tr>\n",
       "      <th>0</th>\n",
       "      <td>0.817</td>\n",
       "      <td>[I'm, 0.7, 0.86]</td>\n",
       "      <td>I'm saying any sentence</td>\n",
       "    </tr>\n",
       "    <tr>\n",
       "      <th>1</th>\n",
       "      <td>0.817</td>\n",
       "      <td>[saying, 0.86, 1.25]</td>\n",
       "      <td>I'm saying any sentence</td>\n",
       "    </tr>\n",
       "    <tr>\n",
       "      <th>2</th>\n",
       "      <td>0.817</td>\n",
       "      <td>[any, 1.25, 1.52]</td>\n",
       "      <td>I'm saying any sentence</td>\n",
       "    </tr>\n",
       "    <tr>\n",
       "      <th>3</th>\n",
       "      <td>0.817</td>\n",
       "      <td>[sentence, 1.52, 2.48]</td>\n",
       "      <td>I'm saying any sentence</td>\n",
       "    </tr>\n",
       "  </tbody>\n",
       "</table>\n",
       "</div>"
      ],
      "text/plain": [
       "   confidence              timestamps                transcript\n",
       "0       0.817        [I'm, 0.7, 0.86]  I'm saying any sentence \n",
       "1       0.817    [saying, 0.86, 1.25]  I'm saying any sentence \n",
       "2       0.817       [any, 1.25, 1.52]  I'm saying any sentence \n",
       "3       0.817  [sentence, 1.52, 2.48]  I'm saying any sentence "
      ]
     },
     "execution_count": 58,
     "metadata": {},
     "output_type": "execute_result"
    }
   ],
   "source": [
    "pd.DataFrame.from_dict(ibm_out['results'][0]['alternatives'][0])"
   ]
  },
  {
   "cell_type": "code",
   "execution_count": null,
   "metadata": {
    "collapsed": true
   },
   "outputs": [],
   "source": []
  },
  {
   "cell_type": "code",
   "execution_count": 61,
   "metadata": {
    "collapsed": false
   },
   "outputs": [
    {
     "data": {
      "text/plain": [
       "[{'confidence': 0.5, 'final': False, 'from': 0.7, 'speaker': 0, 'to': 0.86},\n",
       " {'confidence': 0.5, 'final': False, 'from': 0.86, 'speaker': 0, 'to': 1.25},\n",
       " {'confidence': 0.5, 'final': False, 'from': 1.25, 'speaker': 0, 'to': 1.52},\n",
       " {'confidence': 0.5, 'final': False, 'from': 1.52, 'speaker': 0, 'to': 2.48},\n",
       " {'confidence': 0.667, 'final': False, 'from': 2.82, 'speaker': 1, 'to': 2.98},\n",
       " {'confidence': 0.667, 'final': False, 'from': 2.98, 'speaker': 1, 'to': 3.15},\n",
       " {'confidence': 0.667, 'final': False, 'from': 3.15, 'speaker': 1, 'to': 3.45},\n",
       " {'confidence': 0.667, 'final': False, 'from': 3.45, 'speaker': 1, 'to': 3.78},\n",
       " {'confidence': 0.667, 'final': False, 'from': 3.78, 'speaker': 1, 'to': 4.07},\n",
       " {'confidence': 0.667, 'final': False, 'from': 4.07, 'speaker': 1, 'to': 4.75},\n",
       " {'confidence': 0.478, 'final': False, 'from': 7.28, 'speaker': 2, 'to': 7.62},\n",
       " {'confidence': 0.454, 'final': True, 'from': 8.13, 'speaker': 0, 'to': 8.49}]"
      ]
     },
     "execution_count": 61,
     "metadata": {},
     "output_type": "execute_result"
    }
   ],
   "source": [
    "ibm_out['speaker_labels']"
   ]
  },
  {
   "cell_type": "code",
   "execution_count": 92,
   "metadata": {
    "collapsed": false
   },
   "outputs": [
    {
     "data": {
      "text/html": [
       "<div>\n",
       "<style>\n",
       "    .dataframe thead tr:only-child th {\n",
       "        text-align: right;\n",
       "    }\n",
       "\n",
       "    .dataframe thead th {\n",
       "        text-align: left;\n",
       "    }\n",
       "\n",
       "    .dataframe tbody tr th {\n",
       "        vertical-align: top;\n",
       "    }\n",
       "</style>\n",
       "<table border=\"1\" class=\"dataframe\">\n",
       "  <thead>\n",
       "    <tr style=\"text-align: right;\">\n",
       "      <th></th>\n",
       "      <th>confidence</th>\n",
       "      <th>final</th>\n",
       "      <th>from</th>\n",
       "      <th>speaker</th>\n",
       "      <th>to</th>\n",
       "    </tr>\n",
       "  </thead>\n",
       "  <tbody>\n",
       "    <tr>\n",
       "      <th>0</th>\n",
       "      <td>0.500</td>\n",
       "      <td>False</td>\n",
       "      <td>0.70</td>\n",
       "      <td>0</td>\n",
       "      <td>0.86</td>\n",
       "    </tr>\n",
       "    <tr>\n",
       "      <th>1</th>\n",
       "      <td>0.500</td>\n",
       "      <td>False</td>\n",
       "      <td>0.86</td>\n",
       "      <td>0</td>\n",
       "      <td>1.25</td>\n",
       "    </tr>\n",
       "    <tr>\n",
       "      <th>2</th>\n",
       "      <td>0.500</td>\n",
       "      <td>False</td>\n",
       "      <td>1.25</td>\n",
       "      <td>0</td>\n",
       "      <td>1.52</td>\n",
       "    </tr>\n",
       "    <tr>\n",
       "      <th>3</th>\n",
       "      <td>0.500</td>\n",
       "      <td>False</td>\n",
       "      <td>1.52</td>\n",
       "      <td>0</td>\n",
       "      <td>2.48</td>\n",
       "    </tr>\n",
       "    <tr>\n",
       "      <th>4</th>\n",
       "      <td>0.667</td>\n",
       "      <td>False</td>\n",
       "      <td>2.82</td>\n",
       "      <td>1</td>\n",
       "      <td>2.98</td>\n",
       "    </tr>\n",
       "    <tr>\n",
       "      <th>5</th>\n",
       "      <td>0.667</td>\n",
       "      <td>False</td>\n",
       "      <td>2.98</td>\n",
       "      <td>1</td>\n",
       "      <td>3.15</td>\n",
       "    </tr>\n",
       "    <tr>\n",
       "      <th>6</th>\n",
       "      <td>0.667</td>\n",
       "      <td>False</td>\n",
       "      <td>3.15</td>\n",
       "      <td>1</td>\n",
       "      <td>3.45</td>\n",
       "    </tr>\n",
       "    <tr>\n",
       "      <th>7</th>\n",
       "      <td>0.667</td>\n",
       "      <td>False</td>\n",
       "      <td>3.45</td>\n",
       "      <td>1</td>\n",
       "      <td>3.78</td>\n",
       "    </tr>\n",
       "    <tr>\n",
       "      <th>8</th>\n",
       "      <td>0.667</td>\n",
       "      <td>False</td>\n",
       "      <td>3.78</td>\n",
       "      <td>1</td>\n",
       "      <td>4.07</td>\n",
       "    </tr>\n",
       "    <tr>\n",
       "      <th>9</th>\n",
       "      <td>0.667</td>\n",
       "      <td>False</td>\n",
       "      <td>4.07</td>\n",
       "      <td>1</td>\n",
       "      <td>4.75</td>\n",
       "    </tr>\n",
       "    <tr>\n",
       "      <th>10</th>\n",
       "      <td>0.478</td>\n",
       "      <td>False</td>\n",
       "      <td>7.28</td>\n",
       "      <td>2</td>\n",
       "      <td>7.62</td>\n",
       "    </tr>\n",
       "    <tr>\n",
       "      <th>11</th>\n",
       "      <td>0.454</td>\n",
       "      <td>True</td>\n",
       "      <td>8.13</td>\n",
       "      <td>0</td>\n",
       "      <td>8.49</td>\n",
       "    </tr>\n",
       "  </tbody>\n",
       "</table>\n",
       "</div>"
      ],
      "text/plain": [
       "    confidence  final  from  speaker    to\n",
       "0        0.500  False  0.70        0  0.86\n",
       "1        0.500  False  0.86        0  1.25\n",
       "2        0.500  False  1.25        0  1.52\n",
       "3        0.500  False  1.52        0  2.48\n",
       "4        0.667  False  2.82        1  2.98\n",
       "5        0.667  False  2.98        1  3.15\n",
       "6        0.667  False  3.15        1  3.45\n",
       "7        0.667  False  3.45        1  3.78\n",
       "8        0.667  False  3.78        1  4.07\n",
       "9        0.667  False  4.07        1  4.75\n",
       "10       0.478  False  7.28        2  7.62\n",
       "11       0.454   True  8.13        0  8.49"
      ]
     },
     "execution_count": 92,
     "metadata": {},
     "output_type": "execute_result"
    }
   ],
   "source": [
    "DFtmp_speakerInfo = pd.DataFrame.from_dict(ibm_out['speaker_labels'])\n",
    "DFtmp_speakerInfo"
   ]
  },
  {
   "cell_type": "code",
   "execution_count": 76,
   "metadata": {
    "collapsed": false
   },
   "outputs": [
    {
     "data": {
      "text/plain": [
       "[\"I'm\", 'saying', 'any', 'sentence']"
      ]
     },
     "execution_count": 76,
     "metadata": {},
     "output_type": "execute_result"
    }
   ],
   "source": [
    "ibm_out['results'][0]['alternatives'][0]['transcript'].split()"
   ]
  },
  {
   "cell_type": "code",
   "execution_count": 87,
   "metadata": {
    "collapsed": false
   },
   "outputs": [
    {
     "data": {
      "text/plain": [
       "float"
      ]
     },
     "execution_count": 87,
     "metadata": {},
     "output_type": "execute_result"
    }
   ],
   "source": [
    "type(ibm_out['results'][0]['alternatives'][0]['confidence'])"
   ]
  },
  {
   "cell_type": "code",
   "execution_count": 88,
   "metadata": {
    "collapsed": false
   },
   "outputs": [
    {
     "name": "stdout",
     "output_type": "stream",
     "text": [
      "[\"I'm\", 'saying', 'any', 'sentence']\n",
      "['I', 'am', 'also', 'saying', 'any', 'sentence']\n",
      "['yeah', 'yeah']\n"
     ]
    },
    {
     "data": {
      "text/plain": [
       "[0.817, 0.911, 0.34]"
      ]
     },
     "execution_count": 88,
     "metadata": {},
     "output_type": "execute_result"
    }
   ],
   "source": [
    "Wd_list=[]\n",
    "conf_list=[]\n",
    "\n",
    "for r in ibm_out['results']:\n",
    "    print(r['alternatives'][0]['transcript'].split())\n",
    "    Wd_list.extend(r['alternatives'][0]['transcript'].split())\n",
    "    \n",
    "    conf_list.extend([r['alternatives'][0]['confidence']])\n",
    "    \n",
    "Wd_list,\n",
    "conf_list"
   ]
  },
  {
   "cell_type": "code",
   "execution_count": null,
   "metadata": {
    "collapsed": true
   },
   "outputs": [],
   "source": [
    "pd.DataFrame.from_dict(ibm_out['results'][0]['alternatives'][0])"
   ]
  },
  {
   "cell_type": "code",
   "execution_count": 93,
   "metadata": {
    "collapsed": false
   },
   "outputs": [
    {
     "data": {
      "text/html": [
       "<div>\n",
       "<style>\n",
       "    .dataframe thead tr:only-child th {\n",
       "        text-align: right;\n",
       "    }\n",
       "\n",
       "    .dataframe thead th {\n",
       "        text-align: left;\n",
       "    }\n",
       "\n",
       "    .dataframe tbody tr th {\n",
       "        vertical-align: top;\n",
       "    }\n",
       "</style>\n",
       "<table border=\"1\" class=\"dataframe\">\n",
       "  <thead>\n",
       "    <tr style=\"text-align: right;\">\n",
       "      <th></th>\n",
       "      <th>wd_list</th>\n",
       "    </tr>\n",
       "  </thead>\n",
       "  <tbody>\n",
       "    <tr>\n",
       "      <th>0</th>\n",
       "      <td>I'm</td>\n",
       "    </tr>\n",
       "    <tr>\n",
       "      <th>1</th>\n",
       "      <td>saying</td>\n",
       "    </tr>\n",
       "    <tr>\n",
       "      <th>2</th>\n",
       "      <td>any</td>\n",
       "    </tr>\n",
       "    <tr>\n",
       "      <th>3</th>\n",
       "      <td>sentence</td>\n",
       "    </tr>\n",
       "    <tr>\n",
       "      <th>4</th>\n",
       "      <td>I</td>\n",
       "    </tr>\n",
       "    <tr>\n",
       "      <th>5</th>\n",
       "      <td>am</td>\n",
       "    </tr>\n",
       "    <tr>\n",
       "      <th>6</th>\n",
       "      <td>also</td>\n",
       "    </tr>\n",
       "    <tr>\n",
       "      <th>7</th>\n",
       "      <td>saying</td>\n",
       "    </tr>\n",
       "    <tr>\n",
       "      <th>8</th>\n",
       "      <td>any</td>\n",
       "    </tr>\n",
       "    <tr>\n",
       "      <th>9</th>\n",
       "      <td>sentence</td>\n",
       "    </tr>\n",
       "    <tr>\n",
       "      <th>10</th>\n",
       "      <td>yeah</td>\n",
       "    </tr>\n",
       "    <tr>\n",
       "      <th>11</th>\n",
       "      <td>yeah</td>\n",
       "    </tr>\n",
       "  </tbody>\n",
       "</table>\n",
       "</div>"
      ],
      "text/plain": [
       "     wd_list\n",
       "0        I'm\n",
       "1     saying\n",
       "2        any\n",
       "3   sentence\n",
       "4          I\n",
       "5         am\n",
       "6       also\n",
       "7     saying\n",
       "8        any\n",
       "9   sentence\n",
       "10      yeah\n",
       "11      yeah"
      ]
     },
     "execution_count": 93,
     "metadata": {},
     "output_type": "execute_result"
    }
   ],
   "source": [
    "DFtmp_wd = pd.DataFrame(Wd_list, columns=['wd_list'])\n",
    "DFtmp_wd"
   ]
  },
  {
   "cell_type": "code",
   "execution_count": 94,
   "metadata": {
    "collapsed": false
   },
   "outputs": [
    {
     "data": {
      "text/html": [
       "<div>\n",
       "<style>\n",
       "    .dataframe thead tr:only-child th {\n",
       "        text-align: right;\n",
       "    }\n",
       "\n",
       "    .dataframe thead th {\n",
       "        text-align: left;\n",
       "    }\n",
       "\n",
       "    .dataframe tbody tr th {\n",
       "        vertical-align: top;\n",
       "    }\n",
       "</style>\n",
       "<table border=\"1\" class=\"dataframe\">\n",
       "  <thead>\n",
       "    <tr style=\"text-align: right;\">\n",
       "      <th></th>\n",
       "      <th>wd_list</th>\n",
       "      <th>confidence</th>\n",
       "      <th>final</th>\n",
       "      <th>from</th>\n",
       "      <th>speaker</th>\n",
       "      <th>to</th>\n",
       "    </tr>\n",
       "  </thead>\n",
       "  <tbody>\n",
       "    <tr>\n",
       "      <th>0</th>\n",
       "      <td>I'm</td>\n",
       "      <td>0.500</td>\n",
       "      <td>False</td>\n",
       "      <td>0.70</td>\n",
       "      <td>0</td>\n",
       "      <td>0.86</td>\n",
       "    </tr>\n",
       "    <tr>\n",
       "      <th>1</th>\n",
       "      <td>saying</td>\n",
       "      <td>0.500</td>\n",
       "      <td>False</td>\n",
       "      <td>0.86</td>\n",
       "      <td>0</td>\n",
       "      <td>1.25</td>\n",
       "    </tr>\n",
       "    <tr>\n",
       "      <th>2</th>\n",
       "      <td>any</td>\n",
       "      <td>0.500</td>\n",
       "      <td>False</td>\n",
       "      <td>1.25</td>\n",
       "      <td>0</td>\n",
       "      <td>1.52</td>\n",
       "    </tr>\n",
       "    <tr>\n",
       "      <th>3</th>\n",
       "      <td>sentence</td>\n",
       "      <td>0.500</td>\n",
       "      <td>False</td>\n",
       "      <td>1.52</td>\n",
       "      <td>0</td>\n",
       "      <td>2.48</td>\n",
       "    </tr>\n",
       "    <tr>\n",
       "      <th>4</th>\n",
       "      <td>I</td>\n",
       "      <td>0.667</td>\n",
       "      <td>False</td>\n",
       "      <td>2.82</td>\n",
       "      <td>1</td>\n",
       "      <td>2.98</td>\n",
       "    </tr>\n",
       "    <tr>\n",
       "      <th>5</th>\n",
       "      <td>am</td>\n",
       "      <td>0.667</td>\n",
       "      <td>False</td>\n",
       "      <td>2.98</td>\n",
       "      <td>1</td>\n",
       "      <td>3.15</td>\n",
       "    </tr>\n",
       "    <tr>\n",
       "      <th>6</th>\n",
       "      <td>also</td>\n",
       "      <td>0.667</td>\n",
       "      <td>False</td>\n",
       "      <td>3.15</td>\n",
       "      <td>1</td>\n",
       "      <td>3.45</td>\n",
       "    </tr>\n",
       "    <tr>\n",
       "      <th>7</th>\n",
       "      <td>saying</td>\n",
       "      <td>0.667</td>\n",
       "      <td>False</td>\n",
       "      <td>3.45</td>\n",
       "      <td>1</td>\n",
       "      <td>3.78</td>\n",
       "    </tr>\n",
       "    <tr>\n",
       "      <th>8</th>\n",
       "      <td>any</td>\n",
       "      <td>0.667</td>\n",
       "      <td>False</td>\n",
       "      <td>3.78</td>\n",
       "      <td>1</td>\n",
       "      <td>4.07</td>\n",
       "    </tr>\n",
       "    <tr>\n",
       "      <th>9</th>\n",
       "      <td>sentence</td>\n",
       "      <td>0.667</td>\n",
       "      <td>False</td>\n",
       "      <td>4.07</td>\n",
       "      <td>1</td>\n",
       "      <td>4.75</td>\n",
       "    </tr>\n",
       "    <tr>\n",
       "      <th>10</th>\n",
       "      <td>yeah</td>\n",
       "      <td>0.478</td>\n",
       "      <td>False</td>\n",
       "      <td>7.28</td>\n",
       "      <td>2</td>\n",
       "      <td>7.62</td>\n",
       "    </tr>\n",
       "    <tr>\n",
       "      <th>11</th>\n",
       "      <td>yeah</td>\n",
       "      <td>0.454</td>\n",
       "      <td>True</td>\n",
       "      <td>8.13</td>\n",
       "      <td>0</td>\n",
       "      <td>8.49</td>\n",
       "    </tr>\n",
       "  </tbody>\n",
       "</table>\n",
       "</div>"
      ],
      "text/plain": [
       "     wd_list  confidence  final  from  speaker    to\n",
       "0        I'm       0.500  False  0.70        0  0.86\n",
       "1     saying       0.500  False  0.86        0  1.25\n",
       "2        any       0.500  False  1.25        0  1.52\n",
       "3   sentence       0.500  False  1.52        0  2.48\n",
       "4          I       0.667  False  2.82        1  2.98\n",
       "5         am       0.667  False  2.98        1  3.15\n",
       "6       also       0.667  False  3.15        1  3.45\n",
       "7     saying       0.667  False  3.45        1  3.78\n",
       "8        any       0.667  False  3.78        1  4.07\n",
       "9   sentence       0.667  False  4.07        1  4.75\n",
       "10      yeah       0.478  False  7.28        2  7.62\n",
       "11      yeah       0.454   True  8.13        0  8.49"
      ]
     },
     "execution_count": 94,
     "metadata": {},
     "output_type": "execute_result"
    }
   ],
   "source": [
    "pd.concat([DFtmp_wd, DFtmp_speakerInfo], axis=1)"
   ]
  },
  {
   "cell_type": "code",
   "execution_count": null,
   "metadata": {
    "collapsed": true
   },
   "outputs": [],
   "source": []
  }
 ],
 "metadata": {
  "kernelspec": {
   "display_name": "Python 3",
   "language": "python",
   "name": "python3"
  },
  "language_info": {
   "codemirror_mode": {
    "name": "ipython",
    "version": 3
   },
   "file_extension": ".py",
   "mimetype": "text/x-python",
   "name": "python",
   "nbconvert_exporter": "python",
   "pygments_lexer": "ipython3",
   "version": "3.6.0"
  }
 },
 "nbformat": 4,
 "nbformat_minor": 2
}
